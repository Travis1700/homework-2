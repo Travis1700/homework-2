{
  "cells": [
    {
      "cell_type": "markdown",
      "metadata": {
        "id": "qXh4swDE2948"
      },
      "source": [
        "# Homework 2: Numerical integration\n",
        "**Due Monday, April 18**\n",
        "\n",
        "Travis Crumpton\n",
        "\n",
        "### Homework checklist\n",
        "\n",
        "Before submitting, make sure that you\n",
        "\n",
        "- Fill in your name in the space above\n",
        "- Cite any resources that you used while working on this homework\n",
        "- 1.a. Fill in the code cell to write a function that performs integration using Simpson's rule  \n",
        "- 1.b. Run the code cell to test the function, then comment on the results below  \n",
        "- 2.a. Write your own code to evaluate the Bessel function  \n",
        "- 2.b. Run the code cell to test the function, then comment on the results below  \n",
        "- 2.c. Fill in the code block to evaluate the Bessel functions and plot the results  "
      ]
    },
    {
      "cell_type": "markdown",
      "metadata": {
        "id": "IcfIYzBU295B"
      },
      "source": [
        "## 1. Integration with Simpson's rule\n",
        "\n",
        "Write a function to perform integration using **Simpson's rule**. The input parameters to the integrator function should be:\n",
        "* A function, $f$\n",
        "* Two real numbers giving the limits of integration\n",
        "* The number of subdivisions $N$ to use for estimating the integral\n",
        "\n",
        "There are many different ways that you could implement integration using Simpson's rule (for example, see Chapter 5 of Newman's *[Computational Physics](http://www-personal.umich.edu/~mejn/cp/chapters.html)*). You are free to choose any approach that you like. If you're already comfortable with Python, you might want to try an implementation that uses numpy arrays and [vectorization](https://realpython.com/numpy-array-programming/)."
      ]
    },
    {
      "cell_type": "markdown",
      "metadata": {
        "id": "y-TsQbLm295C"
      },
      "source": [
        "### 1.a. Write the integration function\n",
        "\n",
        "Fill in the function outline below. If you're having trouble getting started, try writing out all the individual computations that need to be performed to estimate the integral. Then, code each one of them individually."
      ]
    },
    {
      "cell_type": "code",
      "execution_count": 3,
      "metadata": {
        "id": "jql_EAyr295D"
      },
      "outputs": [],
      "source": [
        "import numpy as np\n",
        "\n",
        "def integrate(function_name, lower_limit, upper_limit, N_div):\n",
        "    \"\"\"\n",
        "    Integrate the input univariate function, function_name, \n",
        "    between lower_limit and upper_limit using Simpson's rule \n",
        "    and return the result. The integral bounds will be \n",
        "    subdivided into N_div divisions to estimate the integral.\n",
        "    \"\"\"\n",
        "    \n",
        "    # Fill in your code here\n",
        "    \n",
        "    dx = (upper_limit - lower_limit) / float(N_div) \n",
        "    \n",
        "    if N_div%2!=0:\n",
        "      N_div = N_div + 1\n",
        "      dx = (upper_limit - lower_limit) / float(N_div)\n",
        "      print('Uneven number of steps')\n",
        "\n",
        "  # Perform the sum\n",
        "\n",
        "    total = 0\n",
        "\n",
        "    for i in range(1, N_div, 2):\n",
        "      total += (function_name(lower_limit + dx*(i-1)) + 4 * function_name(lower_limit+ dx*i) + function_name(lower_limit+dx*(i+1)) ) * dx / 3\n",
        "\n",
        "  # Return the result\n",
        "\n",
        "    return total"
      ]
    },
    {
      "cell_type": "markdown",
      "metadata": {
        "id": "is_3Z3ux295F"
      },
      "source": [
        "### 1.b. Test the function\n",
        "\n",
        "Test your function in the cell below."
      ]
    },
    {
      "cell_type": "code",
      "execution_count": 77,
      "metadata": {
        "colab": {
          "base_uri": "https://localhost:8080/"
        },
        "id": "Rf-lFIk7295G",
        "outputId": "71c6e37b-0486-44df-f4a7-9df7a65221e2"
      },
      "outputs": [
        {
          "output_type": "execute_result",
          "data": {
            "text/plain": [
              "1.0"
            ]
          },
          "metadata": {},
          "execution_count": 77
        }
      ],
      "source": [
        "def test_quad(x):\n",
        "    return 3*x**2\n",
        "\n",
        "integrate(test_quad, 0, 1, 100)"
      ]
    },
    {
      "cell_type": "markdown",
      "metadata": {
        "id": "fmlO8xP5295G"
      },
      "source": [
        "Compare your output with the analytical result here. Does it perform as expected?"
      ]
    },
    {
      "cell_type": "markdown",
      "source": [
        "In solving ∫3x^2 analytically, I attained the same value that was determined by the numerical integration calculated above."
      ],
      "metadata": {
        "id": "9poZIpnNS0JN"
      }
    },
    {
      "cell_type": "markdown",
      "metadata": {
        "id": "H3-_zBlg295I"
      },
      "source": [
        "## 2. Application: diffraction patterns generated by a circular aperture\n",
        "\n",
        "When might we need to perform numerical integration? Here is one example from Exercise 5.4 in Newman's [Computational Physics](http://www-personal.umich.edu/~mejn/cp/chapters.html) textbook.\n",
        "\n",
        "When light with wavelength $\\lambda$ passes through a circular aperture, as in a telescope, it doesn't produce just a single point of light in the focal plane. Rather, the light is *diffracted*, producing a central bright spot surrounded by alternating bright and dark rings. Mathematically, the intensity of the focused light is given by\n",
        "\n",
        "$$I(r) = \\frac{J_1(kr)}{kr}^2\\,,$$\n",
        "\n",
        "where $r$ is the distance from the center of the focal plane, $k = 2\\pi/\\lambda$, and $J_1$ is the order 1 [Bessel function](https://en.wikipedia.org/wiki/Bessel_function) of the first kind. For more information, follow the Wikipedia link. Bessel functions appear very frequently in physics.\n",
        "\n",
        "One way to define the Bessel functions $J_m$ is through an integral,\n",
        "\n",
        "$$ J_m(x) = \\frac{1}{\\pi}\\int_0^\\pi\\!d\\theta\\; \\cos(m\\theta - x \\sin \\theta) \\, $$ \n",
        "\n",
        "where $m$ is a nonnegative integer and $x\\geq 0$. \n",
        "\n",
        "In the rest of the exercise below, we'll write a function to evaluate the Bessel function using our integrator defined in part 1. Then we'll test it and plot the results."
      ]
    },
    {
      "cell_type": "markdown",
      "metadata": {
        "id": "gr_Pv7JA295J"
      },
      "source": [
        "### 2.a. Write the Bessel function\n",
        "\n",
        "Write your own version of the Bessel function by filling in the cell below. We'll assume that the number of divisions is 1000."
      ]
    },
    {
      "cell_type": "code",
      "execution_count": 4,
      "metadata": {
        "id": "nfwT95Yw295K"
      },
      "outputs": [],
      "source": [
        "import math\n",
        "\n",
        "def J(m, x):\n",
        "    \"\"\"\n",
        "    mth Bessel function of the first kind evaluated at real number x,  \n",
        "    calculated using an integral representation with Simpson's rule and 1000 divisions.\n",
        "    \"\"\"\n",
        "    \n",
        "    # Fill in your code here, using the integrate function you defined in part 1\n",
        "\n",
        "    # Remember: you'll need to evaluate sine and cosine functions, and to use the constant pi\n",
        "    # You can access these functions from numpy or the Python math library\n",
        "    \n",
        "    # You might want to define a local function for the integrand\n",
        "    def integrand(theta):\n",
        "        return math.cos((m * theta) - x * math.sin(theta))  # Return the integrand here\n",
        "\n",
        "    return np.float((1 / math.pi) * integrate(integrand, 0, math.pi, 1000))# Return your result here"
      ]
    },
    {
      "cell_type": "markdown",
      "metadata": {
        "id": "qU_Hxz7-295L"
      },
      "source": [
        "### 2.b. Test the function\n",
        "\n",
        "Now, test your function in the cell below."
      ]
    },
    {
      "cell_type": "code",
      "execution_count": 53,
      "metadata": {
        "colab": {
          "base_uri": "https://localhost:8080/"
        },
        "id": "8LJMLDwT295L",
        "outputId": "8be19da7-ff6a-4948-9d3c-ba46b8adf516"
      },
      "outputs": [
        {
          "output_type": "stream",
          "name": "stdout",
          "text": [
            "0.4400505857449338\n"
          ]
        }
      ],
      "source": [
        "print(J(1,1))"
      ]
    },
    {
      "cell_type": "markdown",
      "metadata": {
        "id": "06yQnlZU295M"
      },
      "source": [
        "How does this compare with the expected result? Let's check our answer against the builtin Bessel function evaluator in `scipy`."
      ]
    },
    {
      "cell_type": "code",
      "execution_count": 54,
      "metadata": {
        "colab": {
          "base_uri": "https://localhost:8080/"
        },
        "id": "z_PSIixb295M",
        "outputId": "0f606396-ba93-4e8d-ad8b-661bbf238ce7"
      },
      "outputs": [
        {
          "output_type": "stream",
          "name": "stdout",
          "text": [
            "2.220446049250313e-16\n"
          ]
        }
      ],
      "source": [
        "import scipy.special as sp\n",
        "\n",
        "print(J(1,1) - sp.jv(1, 1))"
      ]
    },
    {
      "cell_type": "markdown",
      "metadata": {
        "id": "z4hW3FVf295N"
      },
      "source": [
        "### An aside \n",
        "\n",
        "Why are we implementing our own method to evaluate the Bessel function when another one already exists? As you might have guessed, this is just for practice, and practice works best when there are well-established results that you can compare with. \n",
        "\n",
        "In your own computational adventures, the first step in any problem is to **check whether someone else has already solved it first**. If a solution exists, it will almost always be better to use the existing software and build on top of it, rather than \"reinventing the wheel.\" Why? Consider the frenzied activity in the [numpy repository](https://github.com/numpy/numpy) on GitHub. Hundreds of people are working to ensure that numpy is fast and accurate. This is not a situation where a team of 1 can compete.\n",
        "\n",
        "However, in research or industry we may encounter niche problems that have not yet been solved, or where standard techniques fail. In these cases we may indeed need to start from the beginning."
      ]
    },
    {
      "cell_type": "markdown",
      "metadata": {
        "id": "11idbjWC295N"
      },
      "source": [
        "### 2.c. Plot the Bessel function(s)\n",
        "\n",
        "Now, let's use our function `J(m, x)` to plot three different Bessel functions, $J_0(x)$, $J_1(x)$ and $J_2(x)$. Your job is to fill in the following code to produce these plots. The outline below uses `seaborn`, but you're also welcome to use `matplotlib` directly if you'd like.\n",
        "\n",
        "*Hint*: You can check your answers by consulting [Wikipedia](https://en.wikipedia.org/wiki/Bessel_function).\n",
        "\n",
        "*Hint*$^2$: Your function for evaluating the Bessel functions might take a little bit of time. You can potentially make it faster, and easier to use, with the `numpy.vectorize` function. For more information, look [here](https://docs.scipy.org/doc/numpy-1.15.0/reference/generated/numpy.vectorize.html). If you vectorize `J(m, x)` then it will be able to operate on entire numpy arrays at once."
      ]
    },
    {
      "cell_type": "code",
      "execution_count": 6,
      "metadata": {
        "colab": {
          "base_uri": "https://localhost:8080/",
          "height": 441
        },
        "id": "gq3hbbMT295N",
        "outputId": "8e9f5e47-cc9a-4677-a82e-5787dd9b5c0f"
      },
      "outputs": [
        {
          "output_type": "stream",
          "name": "stderr",
          "text": [
            "/usr/local/lib/python3.7/dist-packages/ipykernel_launcher.py:18: DeprecationWarning: `np.float` is a deprecated alias for the builtin `float`. To silence this warning, use `float` by itself. Doing this will not modify any behavior and is safe. If you specifically wanted the numpy scalar type, use `np.float64` here.\n",
            "Deprecated in NumPy 1.20; for more details and guidance: https://numpy.org/devdocs/release/1.20.0-notes.html#deprecations\n",
            "/usr/local/lib/python3.7/dist-packages/seaborn/_decorators.py:43: FutureWarning: Pass the following variables as keyword args: x, y. From version 0.12, the only valid positional argument will be `data`, and passing other arguments without an explicit keyword will result in an error or misinterpretation.\n",
            "  FutureWarning\n",
            "/usr/local/lib/python3.7/dist-packages/seaborn/_decorators.py:43: FutureWarning: Pass the following variables as keyword args: x, y. From version 0.12, the only valid positional argument will be `data`, and passing other arguments without an explicit keyword will result in an error or misinterpretation.\n",
            "  FutureWarning\n",
            "/usr/local/lib/python3.7/dist-packages/seaborn/_decorators.py:43: FutureWarning: Pass the following variables as keyword args: x, y. From version 0.12, the only valid positional argument will be `data`, and passing other arguments without an explicit keyword will result in an error or misinterpretation.\n",
            "  FutureWarning\n"
          ]
        },
        {
          "output_type": "execute_result",
          "data": {
            "text/plain": [
              "<matplotlib.axes._subplots.AxesSubplot at 0x7f843e9b8710>"
            ]
          },
          "metadata": {},
          "execution_count": 6
        },
        {
          "output_type": "display_data",
          "data": {
            "text/plain": [
              "<Figure size 432x288 with 1 Axes>"
            ],
            "image/png": "[encoded data removed]"
          },
          "metadata": {
            "needs_background": "light"
          }
        }
      ],
      "source": [
        "import seaborn as sns\n",
        "import numpy as np\n",
        "import matplotlib.pyplot as plt\n",
        "\n",
        "# x sample points\n",
        "x = np.linspace(0, 20, 200)\n",
        "\n",
        "vJ = np.vectorize(J)\n",
        "\n",
        "y0 = vJ(0, x) # FILL THIS IN, y-values of J0(x)\n",
        "y1 = vJ(1, x) # FILL THIS IN, y-values of J1(x)\n",
        "y2 = vJ(2, x) # FILL THIS IN, y-values of J2(x)\n",
        "\n",
        "sns.lineplot(x, y0,\n",
        "            label='$J_0(x)$')\n",
        "\n",
        "sns.lineplot(x, y1, \n",
        "            label='$J_0(x)$')\n",
        "\n",
        "sns.lineplot(x, y2,\n",
        "            label='$J_0(x)$')"
      ]
    }
  ],
  "metadata": {
    "kernelspec": {
      "display_name": "Python 3 (ipykernel)",
      "language": "python",
      "name": "python3"
    },
    "language_info": {
      "codemirror_mode": {
        "name": "ipython",
        "version": 3
      },
      "file_extension": ".py",
      "mimetype": "text/x-python",
      "name": "python",
      "nbconvert_exporter": "python",
      "pygments_lexer": "ipython3",
      "version": "3.9.12"
    },
    "colab": {
      "name": "homework-2.ipynb",
      "provenance": []
    }
  },
  "nbformat": 4,
  "nbformat_minor": 0
}